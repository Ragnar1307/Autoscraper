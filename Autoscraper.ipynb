{
 "cells": [
  {
   "cell_type": "code",
   "execution_count": 1,
   "metadata": {},
   "outputs": [],
   "source": [
    "!pip install autoscraper --upgrade --quiet"
   ]
  },
  {
   "cell_type": "code",
   "execution_count": 2,
   "metadata": {},
   "outputs": [],
   "source": [
    "from autoscraper import AutoScraper"
   ]
  },
  {
   "cell_type": "code",
   "execution_count": 3,
   "metadata": {},
   "outputs": [],
   "source": [
    "flipkart_url = 'https://www.flipkart.com/search?q=iphone'\n",
    "\n",
    "wanted_list = ['Apple iPhone XR ((PRODUCT)RED, 64 GB) (Includes EarPods, Power Adapter)', '₹41,999']"
   ]
  },
  {
   "cell_type": "code",
   "execution_count": 4,
   "metadata": {},
   "outputs": [
    {
     "name": "stdout",
     "output_type": "stream",
     "text": [
      "['APPLE iPhone SE (Black, 64 GB)', 'APPLE iPhone SE (White, 64 GB)', 'APPLE iPhone SE (Black, 128 GB)', 'APPLE iPhone SE (Red, 64 GB)', 'APPLE iPhone 11 (Black, 64 GB)', 'Apple iPhone XR ((PRODUCT)RED, 64 GB) (Includes EarPods, Power Adapter)', 'APPLE iPhone SE (Red, 128 GB)', 'APPLE iPhone 12 Mini (White, 128 GB)', 'APPLE iPhone SE (White, 128 GB)', 'APPLE iPhone 12 Pro (Pacific Blue, 256 GB)', 'APPLE iPhone 12 Mini (Black, 128 GB)', 'APPLE iPhone 11 Pro (Midnight Green, 64 GB)', 'Apple iPhone XR (White, 128 GB) (Includes EarPods, Power Adapter)', 'APPLE iPhone 12 (Red, 64 GB)', 'APPLE iPhone 12 (Red, 128 GB)', 'APPLE iPhone 12 Mini (Green, 64 GB)', 'APPLE iPhone XR (Black, 64 GB)', 'APPLE iPhone 12 Mini (Purple, 64 GB)', 'APPLE iPhone 12 (Black, 64 GB)', 'APPLE iPhone 12 Mini (Green, 128 GB)', 'APPLE iPhone 12 Mini (Blue, 64 GB)', 'APPLE iPhone 12 (Blue, 64 GB)', 'APPLE iPhone 12 Mini (Black, 256 GB)', 'APPLE iPhone 12 (Blue, 128 GB)', '₹31,999', '₹36,999', '₹51,999', '₹41,999', '₹72,900', '₹1,25,900', '₹74,999', '₹46,999', '₹77,900', '₹82,900', '₹67,900', '₹69,900']\n"
     ]
    }
   ],
   "source": [
    "scraper = AutoScraper()\n",
    "result = scraper.build(flipkart_url, wanted_list)\n",
    "print(result)"
   ]
  },
  {
   "cell_type": "code",
   "execution_count": 5,
   "metadata": {},
   "outputs": [
    {
     "data": {
      "text/plain": [
       "{'rule_0ylf': ['APPLE iPhone SE (Black, 64 GB)',\n",
       "  'APPLE iPhone SE (White, 64 GB)',\n",
       "  'APPLE iPhone SE (Black, 128 GB)',\n",
       "  'APPLE iPhone SE (Red, 64 GB)',\n",
       "  'APPLE iPhone 11 (Black, 64 GB)',\n",
       "  'Apple iPhone XR ((PRODUCT)RED, 64 GB) (Includes EarPods, Power Adapter)',\n",
       "  'APPLE iPhone SE (Red, 128 GB)',\n",
       "  'APPLE iPhone 12 Mini (White, 128 GB)',\n",
       "  'APPLE iPhone SE (White, 128 GB)',\n",
       "  'APPLE iPhone 12 Pro (Pacific Blue, 256 GB)',\n",
       "  'APPLE iPhone 12 Mini (Black, 128 GB)',\n",
       "  'APPLE iPhone 11 Pro (Midnight Green, 64 GB)',\n",
       "  'Apple iPhone XR (White, 128 GB) (Includes EarPods, Power Adapter)',\n",
       "  'APPLE iPhone 12 (Red, 64 GB)',\n",
       "  'APPLE iPhone 12 (Red, 128 GB)',\n",
       "  'APPLE iPhone 12 Mini (Green, 64 GB)',\n",
       "  'APPLE iPhone XR (Black, 64 GB)',\n",
       "  'APPLE iPhone 12 Mini (Purple, 64 GB)',\n",
       "  'APPLE iPhone 12 (Black, 64 GB)',\n",
       "  'APPLE iPhone 12 Mini (Green, 128 GB)',\n",
       "  'APPLE iPhone 12 Mini (Blue, 64 GB)',\n",
       "  'APPLE iPhone 12 (Blue, 64 GB)',\n",
       "  'APPLE iPhone 12 Mini (Black, 256 GB)',\n",
       "  'APPLE iPhone 12 (Blue, 128 GB)'],\n",
       " 'rule_n27g': ['APPLE iPhone SE (Black, 64 GB)',\n",
       "  'APPLE iPhone SE (White, 64 GB)',\n",
       "  'APPLE iPhone SE (Black, 128 GB)',\n",
       "  'APPLE iPhone SE (Red, 64 GB)',\n",
       "  'APPLE iPhone 11 (Black, 64 GB)',\n",
       "  'Apple iPhone XR ((PRODUCT)RED, 64 GB) (Includes EarPods, Power Adapter)',\n",
       "  'APPLE iPhone SE (Red, 128 GB)',\n",
       "  'APPLE iPhone 12 Mini (White, 128 GB)',\n",
       "  'APPLE iPhone SE (White, 128 GB)',\n",
       "  'APPLE iPhone 12 Pro (Pacific Blue, 256 GB)',\n",
       "  'APPLE iPhone 12 Mini (Black, 128 GB)',\n",
       "  'APPLE iPhone 11 Pro (Midnight Green, 64 GB)',\n",
       "  'Apple iPhone XR (White, 128 GB) (Includes EarPods, Power Adapter)',\n",
       "  'APPLE iPhone 12 (Red, 64 GB)',\n",
       "  'APPLE iPhone 12 (Red, 128 GB)',\n",
       "  'APPLE iPhone 12 Mini (Green, 64 GB)',\n",
       "  'APPLE iPhone XR (Black, 64 GB)',\n",
       "  'APPLE iPhone 12 Mini (Purple, 64 GB)',\n",
       "  'APPLE iPhone 12 (Black, 64 GB)',\n",
       "  'APPLE iPhone 12 Mini (Green, 128 GB)',\n",
       "  'APPLE iPhone 12 Mini (Blue, 64 GB)',\n",
       "  'APPLE iPhone 12 (Blue, 64 GB)',\n",
       "  'APPLE iPhone 12 Mini (Black, 256 GB)',\n",
       "  'APPLE iPhone 12 (Blue, 128 GB)'],\n",
       " 'rule_2awp': ['₹31,999',\n",
       "  '₹31,999',\n",
       "  '₹36,999',\n",
       "  '₹31,999',\n",
       "  '₹51,999',\n",
       "  '₹41,999',\n",
       "  '₹36,999',\n",
       "  '₹72,900',\n",
       "  '₹36,999',\n",
       "  '₹1,25,900',\n",
       "  '₹72,900',\n",
       "  '₹74,999',\n",
       "  '₹46,999',\n",
       "  '₹77,900',\n",
       "  '₹82,900',\n",
       "  '₹67,900',\n",
       "  '₹41,999',\n",
       "  '₹69,900',\n",
       "  '₹77,900',\n",
       "  '₹72,900',\n",
       "  '₹67,900',\n",
       "  '₹77,900',\n",
       "  '₹82,900',\n",
       "  '₹82,900'],\n",
       " 'rule_4qod': ['₹31,999',\n",
       "  '₹31,999',\n",
       "  '₹36,999',\n",
       "  '₹31,999',\n",
       "  '₹51,999',\n",
       "  '₹41,999',\n",
       "  '₹36,999',\n",
       "  '₹72,900',\n",
       "  '₹36,999',\n",
       "  '₹1,25,900',\n",
       "  '₹72,900',\n",
       "  '₹74,999',\n",
       "  '₹46,999',\n",
       "  '₹77,900',\n",
       "  '₹82,900',\n",
       "  '₹67,900',\n",
       "  '₹41,999',\n",
       "  '₹69,900',\n",
       "  '₹77,900',\n",
       "  '₹72,900',\n",
       "  '₹67,900',\n",
       "  '₹77,900',\n",
       "  '₹82,900',\n",
       "  '₹82,900']}"
      ]
     },
     "execution_count": 5,
     "metadata": {},
     "output_type": "execute_result"
    }
   ],
   "source": [
    "scraper.get_result_similar(flipkart_url, grouped = True)"
   ]
  },
  {
   "cell_type": "code",
   "execution_count": 7,
   "metadata": {},
   "outputs": [],
   "source": [
    "scraper.set_rule_aliases({'rule_0ylf' : 'Title', 'rule_2awp' : 'Price'})\n",
    "scraper.keep_rules(['rule_0ylf',  'rule_2awp'])\n",
    "scraper.save('flipkart-search')"
   ]
  },
  {
   "cell_type": "code",
   "execution_count": 8,
   "metadata": {},
   "outputs": [],
   "source": [
    "results = scraper.get_result_similar('https://www.flipkart.com/search?q=nokia+mobiles', group_by_alias = True)"
   ]
  },
  {
   "cell_type": "code",
   "execution_count": 9,
   "metadata": {},
   "outputs": [],
   "source": [
    "Ti = results['Title']"
   ]
  },
  {
   "cell_type": "code",
   "execution_count": 10,
   "metadata": {},
   "outputs": [
    {
     "data": {
      "text/plain": [
       "['Nokia 105',\n",
       " 'Nokia 105 SS 2021',\n",
       " 'Nokia 105 SS 2021',\n",
       " 'Nokia 105 DS 2020',\n",
       " 'Nokia 105 SS',\n",
       " 'Nokia 105 DS 2020',\n",
       " 'Nokia 150 TA-1235 DS',\n",
       " 'Nokia 110 TA-1302 DS',\n",
       " 'Nokia 5310ds',\n",
       " 'Nokia 110 TA-1302 DS',\n",
       " 'Nokia 5310 TA-1212 DS',\n",
       " 'Nokia 3310 DS 2020',\n",
       " 'Nokia TA-1010/105',\n",
       " 'Nokia 105 DS 2020',\n",
       " 'Nokia 3310 DS 2020',\n",
       " 'Nokia 2.4 (Charcoal Grey, 64 GB)',\n",
       " 'Nokia 125 TA-1253 DS',\n",
       " 'Nokia C3 (Nordic Blue, 16 GB)',\n",
       " 'Nokia 2.4 (Fjord Blue, 64 GB)',\n",
       " 'Nokia C3 (Sand, 16 GB)',\n",
       " 'Nokia 5 (Tempered Blue, 16 GB)',\n",
       " 'Nokia 3310 DS 2020',\n",
       " 'Nokia 5.4 (Polar Night, 64 GB)',\n",
       " 'Nokia 215 4G DS 2020']"
      ]
     },
     "execution_count": 10,
     "metadata": {},
     "output_type": "execute_result"
    }
   ],
   "source": [
    "Ti"
   ]
  },
  {
   "cell_type": "code",
   "execution_count": 11,
   "metadata": {},
   "outputs": [],
   "source": [
    "Pr = results['Price']"
   ]
  },
  {
   "cell_type": "code",
   "execution_count": 12,
   "metadata": {},
   "outputs": [
    {
     "data": {
      "text/plain": [
       "['₹1,248',\n",
       " '₹1,325',\n",
       " '₹1,349',\n",
       " '₹1,335',\n",
       " '₹1,240',\n",
       " '₹1,399',\n",
       " '₹2,489',\n",
       " '₹1,702',\n",
       " '₹3,494',\n",
       " '₹1,694',\n",
       " '₹3,849',\n",
       " '₹3,640',\n",
       " '₹1,348',\n",
       " '₹1,399',\n",
       " '₹4,399',\n",
       " '₹10,399',\n",
       " '₹2,198',\n",
       " '₹7,299',\n",
       " '₹10,399',\n",
       " '₹7,299',\n",
       " '₹11,990',\n",
       " '₹3,690',\n",
       " '₹14,499',\n",
       " '₹3,399']"
      ]
     },
     "execution_count": 12,
     "metadata": {},
     "output_type": "execute_result"
    }
   ],
   "source": [
    "Pr"
   ]
  },
  {
   "cell_type": "code",
   "execution_count": 13,
   "metadata": {},
   "outputs": [],
   "source": [
    "topics_dict = {\n",
    "    'Title' : Ti,\n",
    "    'Price' : Pr\n",
    "}"
   ]
  },
  {
   "cell_type": "code",
   "execution_count": 15,
   "metadata": {},
   "outputs": [],
   "source": [
    "import pandas as pd"
   ]
  },
  {
   "cell_type": "code",
   "execution_count": 16,
   "metadata": {},
   "outputs": [],
   "source": [
    "df = pd.DataFrame(topics_dict)"
   ]
  },
  {
   "cell_type": "code",
   "execution_count": 17,
   "metadata": {},
   "outputs": [
    {
     "data": {
      "text/html": [
       "<div>\n",
       "<style scoped>\n",
       "    .dataframe tbody tr th:only-of-type {\n",
       "        vertical-align: middle;\n",
       "    }\n",
       "\n",
       "    .dataframe tbody tr th {\n",
       "        vertical-align: top;\n",
       "    }\n",
       "\n",
       "    .dataframe thead th {\n",
       "        text-align: right;\n",
       "    }\n",
       "</style>\n",
       "<table border=\"1\" class=\"dataframe\">\n",
       "  <thead>\n",
       "    <tr style=\"text-align: right;\">\n",
       "      <th></th>\n",
       "      <th>Title</th>\n",
       "      <th>Price</th>\n",
       "    </tr>\n",
       "  </thead>\n",
       "  <tbody>\n",
       "    <tr>\n",
       "      <th>0</th>\n",
       "      <td>Nokia 105</td>\n",
       "      <td>₹1,248</td>\n",
       "    </tr>\n",
       "    <tr>\n",
       "      <th>1</th>\n",
       "      <td>Nokia 105 SS 2021</td>\n",
       "      <td>₹1,325</td>\n",
       "    </tr>\n",
       "    <tr>\n",
       "      <th>2</th>\n",
       "      <td>Nokia 105 SS 2021</td>\n",
       "      <td>₹1,349</td>\n",
       "    </tr>\n",
       "    <tr>\n",
       "      <th>3</th>\n",
       "      <td>Nokia 105 DS 2020</td>\n",
       "      <td>₹1,335</td>\n",
       "    </tr>\n",
       "    <tr>\n",
       "      <th>4</th>\n",
       "      <td>Nokia 105 SS</td>\n",
       "      <td>₹1,240</td>\n",
       "    </tr>\n",
       "    <tr>\n",
       "      <th>5</th>\n",
       "      <td>Nokia 105 DS 2020</td>\n",
       "      <td>₹1,399</td>\n",
       "    </tr>\n",
       "    <tr>\n",
       "      <th>6</th>\n",
       "      <td>Nokia 150 TA-1235 DS</td>\n",
       "      <td>₹2,489</td>\n",
       "    </tr>\n",
       "    <tr>\n",
       "      <th>7</th>\n",
       "      <td>Nokia 110 TA-1302 DS</td>\n",
       "      <td>₹1,702</td>\n",
       "    </tr>\n",
       "    <tr>\n",
       "      <th>8</th>\n",
       "      <td>Nokia 5310ds</td>\n",
       "      <td>₹3,494</td>\n",
       "    </tr>\n",
       "    <tr>\n",
       "      <th>9</th>\n",
       "      <td>Nokia 110 TA-1302 DS</td>\n",
       "      <td>₹1,694</td>\n",
       "    </tr>\n",
       "    <tr>\n",
       "      <th>10</th>\n",
       "      <td>Nokia 5310 TA-1212 DS</td>\n",
       "      <td>₹3,849</td>\n",
       "    </tr>\n",
       "    <tr>\n",
       "      <th>11</th>\n",
       "      <td>Nokia 3310 DS 2020</td>\n",
       "      <td>₹3,640</td>\n",
       "    </tr>\n",
       "    <tr>\n",
       "      <th>12</th>\n",
       "      <td>Nokia TA-1010/105</td>\n",
       "      <td>₹1,348</td>\n",
       "    </tr>\n",
       "    <tr>\n",
       "      <th>13</th>\n",
       "      <td>Nokia 105 DS 2020</td>\n",
       "      <td>₹1,399</td>\n",
       "    </tr>\n",
       "    <tr>\n",
       "      <th>14</th>\n",
       "      <td>Nokia 3310 DS 2020</td>\n",
       "      <td>₹4,399</td>\n",
       "    </tr>\n",
       "    <tr>\n",
       "      <th>15</th>\n",
       "      <td>Nokia 2.4 (Charcoal Grey, 64 GB)</td>\n",
       "      <td>₹10,399</td>\n",
       "    </tr>\n",
       "    <tr>\n",
       "      <th>16</th>\n",
       "      <td>Nokia 125 TA-1253 DS</td>\n",
       "      <td>₹2,198</td>\n",
       "    </tr>\n",
       "    <tr>\n",
       "      <th>17</th>\n",
       "      <td>Nokia C3 (Nordic Blue, 16 GB)</td>\n",
       "      <td>₹7,299</td>\n",
       "    </tr>\n",
       "    <tr>\n",
       "      <th>18</th>\n",
       "      <td>Nokia 2.4 (Fjord Blue, 64 GB)</td>\n",
       "      <td>₹10,399</td>\n",
       "    </tr>\n",
       "    <tr>\n",
       "      <th>19</th>\n",
       "      <td>Nokia C3 (Sand, 16 GB)</td>\n",
       "      <td>₹7,299</td>\n",
       "    </tr>\n",
       "    <tr>\n",
       "      <th>20</th>\n",
       "      <td>Nokia 5 (Tempered Blue, 16 GB)</td>\n",
       "      <td>₹11,990</td>\n",
       "    </tr>\n",
       "    <tr>\n",
       "      <th>21</th>\n",
       "      <td>Nokia 3310 DS 2020</td>\n",
       "      <td>₹3,690</td>\n",
       "    </tr>\n",
       "    <tr>\n",
       "      <th>22</th>\n",
       "      <td>Nokia 5.4 (Polar Night, 64 GB)</td>\n",
       "      <td>₹14,499</td>\n",
       "    </tr>\n",
       "    <tr>\n",
       "      <th>23</th>\n",
       "      <td>Nokia 215 4G DS 2020</td>\n",
       "      <td>₹3,399</td>\n",
       "    </tr>\n",
       "  </tbody>\n",
       "</table>\n",
       "</div>"
      ],
      "text/plain": [
       "                               Title    Price\n",
       "0                          Nokia 105   ₹1,248\n",
       "1                  Nokia 105 SS 2021   ₹1,325\n",
       "2                  Nokia 105 SS 2021   ₹1,349\n",
       "3                  Nokia 105 DS 2020   ₹1,335\n",
       "4                       Nokia 105 SS   ₹1,240\n",
       "5                  Nokia 105 DS 2020   ₹1,399\n",
       "6               Nokia 150 TA-1235 DS   ₹2,489\n",
       "7               Nokia 110 TA-1302 DS   ₹1,702\n",
       "8                       Nokia 5310ds   ₹3,494\n",
       "9               Nokia 110 TA-1302 DS   ₹1,694\n",
       "10             Nokia 5310 TA-1212 DS   ₹3,849\n",
       "11                Nokia 3310 DS 2020   ₹3,640\n",
       "12                 Nokia TA-1010/105   ₹1,348\n",
       "13                 Nokia 105 DS 2020   ₹1,399\n",
       "14                Nokia 3310 DS 2020   ₹4,399\n",
       "15  Nokia 2.4 (Charcoal Grey, 64 GB)  ₹10,399\n",
       "16              Nokia 125 TA-1253 DS   ₹2,198\n",
       "17     Nokia C3 (Nordic Blue, 16 GB)   ₹7,299\n",
       "18     Nokia 2.4 (Fjord Blue, 64 GB)  ₹10,399\n",
       "19            Nokia C3 (Sand, 16 GB)   ₹7,299\n",
       "20    Nokia 5 (Tempered Blue, 16 GB)  ₹11,990\n",
       "21                Nokia 3310 DS 2020   ₹3,690\n",
       "22    Nokia 5.4 (Polar Night, 64 GB)  ₹14,499\n",
       "23              Nokia 215 4G DS 2020   ₹3,399"
      ]
     },
     "execution_count": 17,
     "metadata": {},
     "output_type": "execute_result"
    }
   ],
   "source": [
    "df"
   ]
  },
  {
   "cell_type": "code",
   "execution_count": 19,
   "metadata": {},
   "outputs": [],
   "source": [
    "df.to_csv('flipkart.csv', index = None)"
   ]
  }
 ],
 "metadata": {
  "kernelspec": {
   "display_name": "Python 3",
   "language": "python",
   "name": "python3"
  },
  "language_info": {
   "codemirror_mode": {
    "name": "ipython",
    "version": 3
   },
   "file_extension": ".py",
   "mimetype": "text/x-python",
   "name": "python",
   "nbconvert_exporter": "python",
   "pygments_lexer": "ipython3",
   "version": "3.8.5"
  }
 },
 "nbformat": 4,
 "nbformat_minor": 4
}
